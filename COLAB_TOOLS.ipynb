{
  "nbformat": 4,
  "nbformat_minor": 0,
  "metadata": {
    "colab": {
      "private_outputs": true,
      "provenance": [],
      "collapsed_sections": [
        "uzNhWbBScpCB",
        "VxQ1zquNGKOz",
        "9NX3YmadHXtb",
        "V71UGl_mgjDF",
        "T5q75nf9M28C",
        "FtAHE7Gxj8e9",
        "hi4f8Ba-diVf",
        "bAls_UEYfwIX",
        "IoAshgcf45gs",
        "o1PFiGyMAMvg",
        "mOnUdLJqVaYA",
        "VKdYIG49VaYA",
        "BjYXYIk0VaYE",
        "Dm58cAVSAFbr",
        "sPRlJcjfkLiY",
        "KgNPvGccgwd8",
        "RDHuIkoi6l9a",
        "NQ0TxfKeghR8",
        "NObEcBWAJoaz",
        "DnrhKfW53wRb",
        "FpJXJiRl6-gK",
        "SNDGdMRn3PA-",
        "KFcIThDuBii_",
        "2f-THZmDoOaY",
        "MSUasbRUDP3B",
        "9UagRtLPyKoQ",
        "GahMjYf8miNs",
        "7-3O4en4C4IL",
        "VRk2Ye1exWVA",
        "tozwpAhhnm69",
        "h9hT93eZGwq2"
      ],
      "include_colab_link": true
    },
    "kernelspec": {
      "name": "python3",
      "display_name": "Python 3"
    },
    "language_info": {
      "name": "python"
    }
  },
  "cells": [
    {
      "cell_type": "markdown",
      "metadata": {
        "id": "view-in-github",
        "colab_type": "text"
      },
      "source": [
        "<a href=\"https://colab.research.google.com/github/Zishan-923212/colab-tools/blob/main/COLAB_TOOLS.ipynb\" target=\"_parent\"><img src=\"https://colab.research.google.com/assets/colab-badge.svg\" alt=\"Open In Colab\"/></a>"
      ]
    },
    {
      "cell_type": "markdown",
      "metadata": {
        "id": "uzNhWbBScpCB"
      },
      "source": [
        "##__Mount GDrive to /content/drive__\n",
        "#####Use one of below methods. Mounting with Google Drive File Stream app is more comfortable, but it has some writing issues. So you can avoid them by using Rclone instead."
      ]
    },
    {
      "cell_type": "markdown",
      "metadata": {
        "id": "VxQ1zquNGKOz"
      },
      "source": [
        "###__Mount with Google Drive File Stream__"
      ]
    },
    {
      "cell_type": "code",
      "metadata": {
        "id": "tPuLCnbGFmxo",
        "cellView": "form"
      },
      "source": [
        "#@markdown <br><center><img src='https://upload.wikimedia.org/wikipedia/commons/thumb/d/da/Google_Drive_logo.png/600px-Google_Drive_logo.png' height=\"50\" alt=\"Gdrive-logo\"/></center>\n",
        "#@markdown <center><h3>Mount GDrive to /content/drive</h3></center><br>\n",
        "MODE = \"MOUNT\" #@param [\"MOUNT\", \"UNMOUNT\"]\n",
        "#Mount your Gdrive!\n",
        "from google.colab import drive\n",
        "drive.mount._DEBUG = False\n",
        "if MODE == \"MOUNT\":\n",
        "  drive.mount('/content/drive', force_remount=True)\n",
        "elif MODE == \"UNMOUNT\":\n",
        "  try:\n",
        "    drive.flush_and_unmount()\n",
        "  except ValueError:\n",
        "    pass\n",
        "  get_ipython().system_raw(\"rm -rf /root/.config/Google/DriveFS\")"
      ],
      "execution_count": null,
      "outputs": []
    },
    {
      "cell_type": "markdown",
      "metadata": {
        "id": "9NX3YmadHXtb"
      },
      "source": [
        "###__Mount with Rclone - (More Accurate) - (Updated)__\n",
        "#####**- Multiple drives including team drives can be mounted at the same runtime session**"
      ]
    },
    {
      "cell_type": "code",
      "metadata": {
        "id": "Bv6jr3SajESu",
        "cellView": "form"
      },
      "source": [
        "#@markdown <br><center><img src='https://rclone.org/img/logo_on_light__horizontal_color.svg' height=\"50\" alt=\"Gdrive-logo\"/></center>\n",
        "#@markdown <center><h3>Mount GDrive to /content/drive_name</h3></center><br>\n",
        "drive_name = \"AniMov\" #@param {type:\"string\"}\n",
        "#@markdown If you want to configure this as a team drive, check the below checkbox\n",
        "team_drive = True #@param {type:\"boolean\"}\n",
        "\n",
        "import subprocess, time, json, os\n",
        "from google.colab import output\n",
        "from IPython.display import HTML, clear_output\n",
        "\n",
        "def formatx(i, j, k):\n",
        "    val=auth_response[i].split(\": \")[1][1-j:-2+j+k]\n",
        "    return val\n",
        "\n",
        "rclone_status = subprocess.check_output(\"command -v rclone &> /dev/null\",  shell=True).decode()\n",
        "if rclone_status:\n",
        "  pass\n",
        "else:\n",
        "  !curl https://rclone.org/install.sh | sudo bash\n",
        "  !rclone config file\n",
        "  !touch /root/.config/rclone/rclone.conf\n",
        "  output.clear()\n",
        "  display(HTML(\"<h2 style=\\\"font-family:Trebuchet MS;color:#446785;\\\">Rclone: Installed successfully .</h2><br>\"))\n",
        "  time.sleep(1)\n",
        "  display(HTML(\"<h2 style=\\\"font-family:Trebuchet MS;color:#446785;\\\">Next: Drive authentication...</h2><br>\"))\n",
        "  time.sleep(2)\n",
        "  output.clear()\n",
        "\n",
        "client_id=\"202264815644.apps.googleusercontent.com\"\n",
        "client_secret=\"X4Z3ca8xfWDb1Voo-F9a7ZxJ\"\n",
        "print(\"Go to this URL in a browser: https://accounts.google.com/o/oauth2/auth?client_id={}&redirect_uri=urn:ietf:wg:oauth:2.0:oob&scope=https://www.googleapis.com/auth/drive&response_type=code\".format(client_id))\n",
        "auth_code=input(\"Enter your authorization code: \")\n",
        "auth_response = subprocess.check_output(\"curl -d client_id={} -d client_secret={} -d grant_type=authorization_code -d redirect_uri=urn:ietf:wg:oauth:2.0:oob -d code={} https://accounts.google.com/o/oauth2/token\".format(client_id, client_secret, auth_code), shell=True).decode().split(\"\\n\")[1:6]\n",
        "access_token, expires_in, refresh_token, scope, token_type = formatx(0, 0, 0), formatx(1, 1, 0), formatx(2, 0, 0), formatx(3, 0, 0), formatx(4, 0, 1)\n",
        "token_in_json = \"{\"+\", \".join(\"\".join(\"\".join(auth_response).split(\"  \")).split(\",\"))+\"}\"\n",
        "\n",
        "output.clear()\n",
        "display(HTML(\"<h2 style=\\\"font-family:Trebuchet MS;color:#446785;\\\">Authenticated successfully.</h2><br>\"))\n",
        "time.sleep(2)\n",
        "output.clear()\n",
        "\n",
        "if team_drive:\n",
        "  print(\"Fetching team drive list...\")\n",
        "  check_drives = subprocess.check_output('''curl \\\n",
        "  'https://www.googleapis.com/drive/v3/drives' \\\n",
        "  --header 'Authorization: Bearer {}' \\\n",
        "  --header 'Accept: application/json' \\\n",
        "  --compressed'''.format(access_token),  shell=True).decode()\n",
        "  drive_list = json.loads(check_drives).get('drives')\n",
        "  print(\"Choose a number from below.(If you want to use the 1st team drive from the below list, type 1 and press enter)\")\n",
        "  for i in range(len(drive_list)):\n",
        "    print(i+1,\"/\", drive_list[i].get('name'))\n",
        "    print(\"  \\\\\",\"\\\"\"+drive_list[i].get('id')+\"\\\"\")\n",
        "  selected_num = int(input(\"Enter the number : \"))\n",
        "  root_id = drive_list[selected_num-1].get('id')\n",
        "else:\n",
        "  print(\"Fetching root id...\")\n",
        "  check_about = subprocess.check_output('''curl \\\n",
        "  'https://www.googleapis.com/drive/v2/about' \\\n",
        "  --header 'Authorization: Bearer {}' \\\n",
        "  --header 'Accept: application/json' \\\n",
        "  --compressed'''.format(access_token),  shell=True).decode()\n",
        "  root_id = json.loads(check_about).get('rootFolderId')\n",
        "\n",
        "#read file\n",
        "rfile = open(r\"/root/.config/rclone/rclone.conf\", \"r\")\n",
        "rfile_content = rfile.readlines()\n",
        "rfile.close()\n",
        "#write file\n",
        "wfile = open(r\"/root/.config/rclone/rclone.conf\",\"a+\")\n",
        "if len(rfile_content) > 0:\n",
        "  wfile.write(\"\\n\\n\")\n",
        "wfile.write(\"[{}]\\ntype = drive\\nscope = drive\\ntoken = {}\\n\".format(drive_name, token_in_json))\n",
        "if team_drive:\n",
        "  wfile.write(\"team_drive = {}\".format(root_id))\n",
        "else:\n",
        "  wfile.write(\"root_folder_id = {}\".format(root_id))\n",
        "wfile.close()\n",
        "\n",
        "output.clear()\n",
        "display(HTML(\"<h2 style=\\\"font-family:Trebuchet MS;color:#446785;\\\">Configuration: Completed successfully</h2><br>\"))\n",
        "time.sleep(1)\n",
        "display(HTML(\"<h2 style=\\\"font-family:Trebuchet MS;color:#446785;\\\">Next: Mounting drive...</h2><br>\"))\n",
        "time.sleep(2)\n",
        "output.clear()\n",
        "\n",
        "rclone_config_name = drive_name\n",
        "local_mount_location = \"/content/\"+drive_name+\"/\"\n",
        "\n",
        "# clear nohup\n",
        "open(\"nohup.out\", 'w').close()\n",
        "\n",
        "# unmount first\n",
        "#!fusermount -u $local_mount_location 2>/dev/null\n",
        "\n",
        "# mount without waiting for the command to complete\n",
        "!mkdir $local_mount_location 2>/dev/null\n",
        "!nohup rclone mount $rclone_config_name: $local_mount_location --buffer-size 96M &\n",
        "\n",
        "# Show the output that was written to nohup\n",
        "time.sleep(3)\n",
        "f = open(r\"nohup.out\", \"r\")\n",
        "nohupText = f.read()\n",
        "f.close()\n",
        "\n",
        "dirs = os.listdir(local_mount_location)\n",
        "\n",
        "if len(dirs) > 0:\n",
        "  clear_output(wait=True)\n",
        "  print(\"Succeeded. \", str(len(dirs)), \"dirs found at\", local_mount_location)\n",
        "\n",
        "else:\n",
        "  print(\"\\n\\nNot succeeded. No files or directories in mounted location. \\nCheck your config name and content. If the rclone command was not found, run the cell above.\\n\\n\")\n",
        "  print(\"log:\\n\", nohupText)"
      ],
      "execution_count": null,
      "outputs": []
    },
    {
      "cell_type": "markdown",
      "metadata": {
        "id": "V71UGl_mgjDF"
      },
      "source": [
        "# Remote Upload"
      ]
    },
    {
      "cell_type": "code",
      "metadata": {
        "id": "WBl7Xx5Th3b9",
        "cellView": "form"
      },
      "source": [
        "#@title Direct Link\n",
        "Storage = \"/content/drive/MyDrive/\" #@param {type:\"string\"}\n",
        "#@markdown To generate filename from url, press enter in filename input.\n",
        "#@markdown\n",
        "#@markdown To stop input and begin downloads, press Enter in url input\n",
        "import os\n",
        "if not os.path.exists(Storage):\n",
        "  os.mkdir(Storage)\n",
        "%pip install wget\n",
        "downloadurl=[]\n",
        "filename=[]\n",
        "%cd \"$Storage\"\n",
        "while 1==1 :\n",
        "    url=str(input(\"Enter url \"))\n",
        "    url.lower()\n",
        "    if url == \"\":\n",
        "        break\n",
        "    name=str(input(\"Enter filename with format \"))\n",
        "    downloadurl.append(url)\n",
        "    filename.append(name)\n",
        "downloadurl.reverse()\n",
        "filename.reverse()\n",
        "while downloadurl != []:\n",
        "    namefile=filename.pop()\n",
        "    urldownload=downloadurl.pop()\n",
        "    if namefile==\"\":\n",
        "        !wget --no-check-certificate \"$urldownload\" \"$Storage\"\n",
        "        pass\n",
        "    !wget --no-check-certificate -O \"$namefile\" \"$urldownload\" \"$Storage\""
      ],
      "execution_count": null,
      "outputs": []
    },
    {
      "cell_type": "code",
      "metadata": {
        "id": "N8MaRJI-iir4",
        "cellView": "form"
      },
      "source": [
        "#@title Torrent\n",
        "Storage = \"/content/drive/MyDrive/Games/\" #@param {type:\"string\"}\n",
        "!apt install python3-libtorrent\n",
        "!python -m pip install lbry-libtorrent\n",
        "import libtorrent as lt\n",
        "import time\n",
        "import datetime\n",
        "import sys\n",
        "import os\n",
        "%cd \"$Storage\"\n",
        "ses = lt.session()\n",
        "ses.listen_on(6881, 6891)\n",
        "params = {\n",
        "    'save_path': \"Torrent\",\n",
        "    'storage_mode': lt.storage_mode_t(2)\n",
        "    }\n",
        "link = str(input(\"Enter Magnet Link\"))\n",
        "print(link)\n",
        "\n",
        "handle = lt.add_magnet_uri(ses, link, params)\n",
        "ses.start_dht()\n",
        "\n",
        "begin = time.time()\n",
        "print(datetime.datetime.now())\n",
        "\n",
        "print ('Downloading Metadata...')\n",
        "while (not handle.has_metadata()):\n",
        "    time.sleep(1)\n",
        "print ('Got Metadata, Starting Torrent Download...')\n",
        "\n",
        "print(\"Starting\", handle.name())\n",
        "\n",
        "while (handle.status().state != lt.torrent_status.seeding):\n",
        "    s = handle.status()\n",
        "    state_str = ['queued', 'checking', 'downloading metadata', \\\n",
        "            'downloading', 'finished', 'seeding', 'allocating']\n",
        "    sys.stdout.write(\"\\r\" + '%.2f%% complete (down: %.1f kb/s up: %.1f kB/s peers: %d) %s ' % \\\n",
        "            (s.progress * 100, s.download_rate / 1000, s.upload_rate / 1000, \\\n",
        "            s.num_peers, state_str[s.state]))\n",
        "    sys.stdout.flush()\n",
        "    time.sleep(5)\n",
        "\n",
        "end = time.time()\n",
        "print(handle.name(), \"COMPLETE\")\n",
        "\n",
        "print(\"Elapsed Time: \",int((end-begin)//60),\"min :\", int((end-begin)%60), \"sec\")\n",
        "\n",
        "print(datetime.datetime.now())"
      ],
      "execution_count": null,
      "outputs": []
    },
    {
      "cell_type": "markdown",
      "metadata": {
        "id": "T5q75nf9M28C"
      },
      "source": [
        "##Pornhub Downloader"
      ]
    },
    {
      "cell_type": "code",
      "metadata": {
        "id": "o_WQyQ5CvXO_",
        "cellView": "form"
      },
      "source": [
        "#@title Install\n",
        "from IPython.display import clear_output\n",
        "import os\n",
        "os.system('pip3 install youtube-dl')\n",
        "os.system('pip3 install prettytable')\n",
        "os.system('pip3 install bs4')\n",
        "os.system('pip3 install requests')\n",
        "%cd /content\n",
        "os.system('git clone https://github.com/mariosemes/PornHub-downloader-python.git')\n",
        "%cd PornHub-downloader-python\n",
        "clear_output()\n",
        "print(\"Install Finished\")"
      ],
      "execution_count": null,
      "outputs": []
    },
    {
      "cell_type": "markdown",
      "metadata": {
        "id": "Xd4ECIKK9NuX"
      },
      "source": [
        "<center><b><u>USES</u></b></center>\n",
        "<table>\n",
        "  <tr>\n",
        "    <td><b>Tool</b></td>\n",
        "    <td><b>command</b></td>\n",
        "    <td><b>item</b></td>\n",
        "  </tr>\n",
        "  <tr>\n",
        "    <td>python3 phdler.py</td>\n",
        "    <td>start</td>\n",
        "  </tr>\n",
        "    <td>python3 phdler.py</td>\n",
        "    <td>custom</td>\n",
        "    <td>url | batch</td>\n",
        "  </tr>\n",
        "  </tr>\n",
        "    <td>python3 phdler.py</td>\n",
        "    <td>add</td>\n",
        "    <td>model | pornstar | channel | user | playlist | batch</td>\n",
        "  </tr>\n",
        "  </tr>\n",
        "    <td>python3 phdler.py</td>\n",
        "    <td>list</td>\n",
        "    <td>model | pornstar | channel | user | playlist | all</td>\n",
        "  </tr>\n",
        "  </tr>\n",
        "    <td>python3 phdler.py</td>\n",
        "    <td>delete</td>\n",
        "    <td>model | pornstar | channel | user | playlist</td>\n",
        "  </tr>"
      ]
    },
    {
      "cell_type": "code",
      "metadata": {
        "id": "QMeMKf2HBb3r",
        "cellView": "form"
      },
      "source": [
        "#@title Start\n",
        "#@markdown Starts downloading all new videos from database.\n",
        "!python3 phdler.py start"
      ],
      "execution_count": null,
      "outputs": []
    },
    {
      "cell_type": "code",
      "metadata": {
        "id": "jpsO3AS7Cg9w",
        "cellView": "form"
      },
      "source": [
        "#@title Custom\n",
        "item = \"https://www.pornhub.com/view_video.php?viewkey=6559efddb63e7\" #@param {type:\"string\"}\n",
        "#@markdown To download a single video, paste Video URL.<br>To batch download a number of videos, paste the full Path to the .txt file containing each URL in separate lines.\n",
        "!python3 phdler.py custom \"$item\""
      ],
      "execution_count": null,
      "outputs": []
    },
    {
      "cell_type": "code",
      "metadata": {
        "cellView": "form",
        "id": "OkITnPyaElxE"
      },
      "source": [
        "#@title Add\n",
        "item = \"\" #@param {type:\"string\"}\n",
        "#@markdown To download all videos from model/ pornstar/ channel/ user/ playlist.<br>Paste URL. This adds the URL to the database.<br>For batch download, paste the full Path to the .txt file containing each URL in separate lines.\n",
        "#@markdown <br>Example URLs:<br>https://www.pornhub.com/model/luxurygirl<br>https://www.pornhub.com/pornstar/leolulu<br>https://www.pornhub.com/channels/mia-khalifa<br>https://www.pornhub.com/users/lasse98<br>https://www.pornhub.com/playlist/30012401\n",
        "!python3 phdler.py add \"$item\""
      ],
      "execution_count": null,
      "outputs": []
    },
    {
      "cell_type": "code",
      "metadata": {
        "cellView": "form",
        "id": "GOXWy4F8GXL0"
      },
      "source": [
        "#@title List\n",
        "#@markdown Lists videos in database.\n",
        "item = \"model\" #@param [\"model\", \"pornstar\", \"channel\", \"user\", \"playlist\", \"batch\"]\n",
        "!python3 phdler.py list \"$item\""
      ],
      "execution_count": null,
      "outputs": []
    },
    {
      "cell_type": "code",
      "metadata": {
        "cellView": "form",
        "id": "rQ8svfbvHV4_"
      },
      "source": [
        "#@title Delete\n",
        "#@markdown This will list the selected item type, list them from the database and give you an option to enter the item ID of which one you want to be deleted.\n",
        "item = \"model\" #@param [\"model\", \"pornstar\", \"channel\", \"user\", \"playlist\"]"
      ],
      "execution_count": null,
      "outputs": []
    },
    {
      "cell_type": "markdown",
      "metadata": {
        "id": "FtAHE7Gxj8e9"
      },
      "source": [
        "# Archive/ Unarchive"
      ]
    },
    {
      "cell_type": "markdown",
      "metadata": {
        "id": "hi4f8Ba-diVf"
      },
      "source": [
        "##__Unzip/Unrar/Untar Files__"
      ]
    },
    {
      "cell_type": "markdown",
      "metadata": {
        "id": "bAls_UEYfwIX"
      },
      "source": [
        "###__Unzip Files__\n",
        "\n"
      ]
    },
    {
      "cell_type": "markdown",
      "metadata": {
        "id": "o_zFmom9fWNW"
      },
      "source": [
        "*   First path in below cell - Your Google Drive file location which you want to Unzip\n",
        "*   Second path in below cell - Path where you want to extract the zip file in Google Drive"
      ]
    },
    {
      "cell_type": "code",
      "metadata": {
        "id": "O1_kc7HBeslm",
        "cellView": "both"
      },
      "source": [
        "!unzip \"/content/drive/MyDrive/John/john-1.9.0-jumbo-1-win64.zip\" -d \"/content/drive/MyDrive/John/\""
      ],
      "execution_count": null,
      "outputs": []
    },
    {
      "cell_type": "markdown",
      "metadata": {
        "id": "IoAshgcf45gs"
      },
      "source": [
        "###__Unrar Files</center>__\n",
        "\n",
        "\n",
        "\n"
      ]
    },
    {
      "cell_type": "markdown",
      "metadata": {
        "id": "Z1Ql6FiDdBYW"
      },
      "source": [
        "*   First path in below cell - Your Google Drive file location which you want to Unrar\n",
        "*   Second path in below cell - Path where you want to extract the rar file in Google Drive\n",
        "\n",
        "*If you want to extract a password protected rar file, then add \"-Y\" flag or Use this command instead of the command in the cell\n",
        "(replace the command with the command in the cell)*\n",
        "\n",
        "* ```\n",
        "!unrar x -Y \"/content/drive/path/input_file_name.rar\" \"/content/drive/path/output_folder/\"\n",
        "```\n",
        "\n",
        "\n",
        "\n"
      ]
    },
    {
      "cell_type": "code",
      "metadata": {
        "id": "5ScZvnCdzKm3",
        "cellView": "both"
      },
      "source": [
        "!unrar x \"/content/drive/Shareddrives/UNLIMITED220 (2)/Pokemon.rar\" \"/content/drive/Shareddrives/UNLIMITED220 (2)/Pokemon Sword\""
      ],
      "execution_count": null,
      "outputs": []
    },
    {
      "cell_type": "markdown",
      "metadata": {
        "id": "o1PFiGyMAMvg"
      },
      "source": [
        "###__Untar Files__\n",
        "\n"
      ]
    },
    {
      "cell_type": "markdown",
      "metadata": {
        "id": "sBWJzqQtAMvg"
      },
      "source": [
        "*   First path in below cell - Your Google Drive file location which you want to Untar\n",
        "*   Second path in below cell - Path where you want to extract the tar file in Google Drive\n",
        "\n",
        " *__Flags__*\n",
        "\n",
        " * -x : Extract a tar ball.\n",
        " * -v : Verbose output or show progress while extracting files.\n",
        " * -f : Specify an archive or a tarball filename.\n",
        " * -C : Specify a different directory to extract\n",
        " * -z : Decompress and extract the contents of the compressed archive created by gzip program (tar.gz extension).\n",
        " * -j : Decompress and extract the contents of the compressed archive created by bzip2 program (tar.bz2 extension)."
      ]
    },
    {
      "cell_type": "code",
      "metadata": {
        "cellView": "both",
        "id": "EKjIowyWAMvh"
      },
      "source": [
        "!tar -xvf \"/content/drive/path/input_file_name.tar\" -C \"/content/drive/path/output_folder/\"     #[run this cell to extract tar files]"
      ],
      "execution_count": null,
      "outputs": []
    },
    {
      "cell_type": "code",
      "metadata": {
        "id": "YfSkw7IFH2pl"
      },
      "source": [
        "!tar -xzvf \"/content/drive/path/input_file_name.tar.gz\" -C \"/content/drive/path/output_folder/\"     #[run this cell to extract tar.gz files]"
      ],
      "execution_count": null,
      "outputs": []
    },
    {
      "cell_type": "code",
      "metadata": {
        "id": "tVaZLH-hH54z"
      },
      "source": [
        "!tar -xjvf \"/content/drive/path/input_file_name.tar.bz2\" -C \"/content/drive/path/output_folder/\"     #[run this cell to extract tar.bz2 files]"
      ],
      "execution_count": null,
      "outputs": []
    },
    {
      "cell_type": "markdown",
      "source": [
        "###__7zip__"
      ],
      "metadata": {
        "id": "EtyenJKHdjZe"
      }
    },
    {
      "cell_type": "code",
      "source": [
        "!apt-get install p7zip-full"
      ],
      "metadata": {
        "id": "mr7UTR9sdxXo"
      },
      "execution_count": null,
      "outputs": []
    },
    {
      "cell_type": "code",
      "source": [
        "!7z x \"/content/drive/MyDrive/John/Hashes.org.7z\""
      ],
      "metadata": {
        "id": "csPddVMyd6_-"
      },
      "execution_count": null,
      "outputs": []
    },
    {
      "cell_type": "markdown",
      "metadata": {
        "id": "mOnUdLJqVaYA"
      },
      "source": [
        "##__Zip/Rar/Tar Files/Folders__"
      ]
    },
    {
      "cell_type": "markdown",
      "metadata": {
        "id": "VKdYIG49VaYA"
      },
      "source": [
        "###__Zip Files/Folders__\n",
        "\n"
      ]
    },
    {
      "cell_type": "markdown",
      "metadata": {
        "id": "n_x6sSnoVaYB"
      },
      "source": [
        "*   First path in below cell - Your Zip output filename\n",
        "*   Second path in below cell - Google Drive file location of the files which you want to Zip"
      ]
    },
    {
      "cell_type": "code",
      "metadata": {
        "cellView": "both",
        "id": "zZ4DrMhmVaYB"
      },
      "source": [
        "!zip -r \"/content/drive/Shareddrives/SharingBackup/Google Photos.zip\" \"/content/drive/Shareddrives/SharingBackup/TAKEOUT 17.08.2022/Takeout/Google Photos\""
      ],
      "execution_count": null,
      "outputs": []
    },
    {
      "cell_type": "markdown",
      "metadata": {
        "id": "BjYXYIk0VaYE"
      },
      "source": [
        "###__Rar Files/Folders__\n",
        "\n",
        "\n",
        "\n"
      ]
    },
    {
      "cell_type": "code",
      "metadata": {
        "id": "lNeNaDMSWHFI"
      },
      "source": [
        "# <= Click this cell to rar the folder\n",
        "\n",
        "!apt-get install rar"
      ],
      "execution_count": null,
      "outputs": []
    },
    {
      "cell_type": "markdown",
      "metadata": {
        "id": "G24N0obDVaYE"
      },
      "source": [
        "*   First path in below cell - Your Rar File output Name (do not put .rar at the end. It will take it automatically)\n",
        "*   Second path in below cell - Google Drive file location of the files/folder which you want to Rar\n",
        "\n",
        "*If you want to create a password protected rar file, then add \"-p\" flag or Use this command instead of the command in in the cell.\n",
        "(replace the command with the command in the cell) After running the cell, it will ask you to provide the password*\n",
        "\n",
        "* ```\n",
        "!rar a -p \"/content/drive/path/output_file_name\" \"/content/drive/path/input_file_or_folder\"\n",
        "```"
      ]
    },
    {
      "cell_type": "code",
      "metadata": {
        "cellView": "both",
        "id": "WtbqIDwIVaYF"
      },
      "source": [
        "!rar a \"/content/drive/Shareddrives/SharingBackup/Google Photos\" \"/content/drive/Shareddrives/SharingBackup/TAKEOUT 17.08.2022/Takeout/Google Photos\""
      ],
      "execution_count": null,
      "outputs": []
    },
    {
      "cell_type": "markdown",
      "metadata": {
        "id": "Dm58cAVSAFbr"
      },
      "source": [
        "###__Tar Files/Folders__\n",
        "\n"
      ]
    },
    {
      "cell_type": "markdown",
      "metadata": {
        "id": "9aBzSi69AFbt"
      },
      "source": [
        "*   First path in below cell - Your Tar output filename\n",
        "*   Second path in below cell - Google Drive file location of the files which you want to Tar\n",
        "\n",
        " *__Flags__*\n",
        "\n",
        " * -c : Create a new archive\n",
        " * -v : Verbose output\n",
        " * -f : Use the given archive file (name.extention)\n",
        " * -z : Filter the archive through gzip\n",
        " * -j : Filter the archive through bzip2"
      ]
    },
    {
      "cell_type": "code",
      "metadata": {
        "cellView": "both",
        "id": "EjAf_hxSAFbt"
      },
      "source": [
        "!tar -cvf \"/content/drive/path/output_file_name.tar\" \"/content/drive/path/input_file_or_folder\"     #[run this cell to create tar files]"
      ],
      "execution_count": null,
      "outputs": []
    },
    {
      "cell_type": "code",
      "metadata": {
        "id": "0n-O8xGADZ2o"
      },
      "source": [
        "!tar -czvf \"/content/drive/path/output_file_name.tar.gz\" \"/content/drive/path/input_file_or_folder\"     #[run this cell to create tar.gz files]"
      ],
      "execution_count": null,
      "outputs": []
    },
    {
      "cell_type": "code",
      "metadata": {
        "id": "qjdZ4cTbD8qx"
      },
      "source": [
        "!tar -cjvf \"/content/drive/path/output_file_name.tar.bz2\" \"/content/drive/path/input_file_or_folder\"      #[run this cell to create tar.bz2 files]"
      ],
      "execution_count": null,
      "outputs": []
    },
    {
      "cell_type": "markdown",
      "metadata": {
        "id": "sPRlJcjfkLiY"
      },
      "source": [
        "# Video Converter"
      ]
    },
    {
      "cell_type": "code",
      "metadata": {
        "id": "huVe8X38kQdA",
        "cellView": "form"
      },
      "source": [
        "#@title Install FFmpeg\n",
        "from IPython.display import clear_output\n",
        "import os, urllib.request\n",
        "HOME = os.path.expanduser(\"~\")\n",
        "pathDoneCMD = f'{HOME}/doneCMD.sh'\n",
        "if not os.path.exists(f\"{HOME}/.ipython/ttmg.py\"):\n",
        "    hCode = \"https://raw.githubusercontent.com/yunooooo/gcct/master/res/ttmg.py\"\n",
        "    urllib.request.urlretrieve(hCode, f\"{HOME}/.ipython/ttmg.py\")\n",
        "\n",
        "from ttmg import (\n",
        "    loadingAn,\n",
        "    textAn,\n",
        ")\n",
        "\n",
        "loadingAn(name=\"lds\")\n",
        "textAn(\"Installing Dependencies...\", ty='twg')\n",
        "os.system('pip install git+git://github.com/AWConant/jikanpy.git')\n",
        "os.system('add-apt-repository -y ppa:jonathonf/ffmpeg-4')\n",
        "os.system('apt-get update')\n",
        "os.system('apt install mediainfo')\n",
        "os.system('apt-get install ffmpeg')\n",
        "clear_output()\n",
        "print('Installation finished.')"
      ],
      "execution_count": null,
      "outputs": []
    },
    {
      "cell_type": "markdown",
      "metadata": {
        "id": "KgNPvGccgwd8"
      },
      "source": [
        "## FFmpeg"
      ]
    },
    {
      "cell_type": "markdown",
      "metadata": {
        "id": "RDHuIkoi6l9a"
      },
      "source": [
        "### <font size=\"4\">» </font><font size=\"5\">Display Media File Metadata"
      ]
    },
    {
      "cell_type": "code",
      "metadata": {
        "id": "Sv8au_RO6WUs",
        "cellView": "form"
      },
      "source": [
        "import os, sys, re\n",
        "\n",
        "media_file_path = \"\" #@param {type:\"string\"}\n",
        "\n",
        "os.environ['inputFile'] = media_file_path\n",
        "\n",
        "!ffmpeg -i \"$inputFile\" -hide_banner"
      ],
      "execution_count": null,
      "outputs": []
    },
    {
      "cell_type": "markdown",
      "metadata": {
        "id": "X4yIG_nqYAoH"
      },
      "source": [
        "> *You can ignore the* \"`At least one output file must be specified`\" *error after running this.*\n",
        "\n",
        "\n"
      ]
    },
    {
      "cell_type": "markdown",
      "metadata": {
        "id": "NQ0TxfKeghR8"
      },
      "source": [
        "### <font size=\"4\">» </font><font size=\"5\">Convert *Video File* ➔ *.mp4* (*Lossless*)"
      ]
    },
    {
      "cell_type": "code",
      "metadata": {
        "id": "Ls4O5VLwief-",
        "cellView": "form"
      },
      "source": [
        "import os, sys, re\n",
        "\n",
        "video_file_path = \"\" #@param {type:\"string\"}\n",
        "\n",
        "output_file_path = re.search(\"^[\\/].+\\/\", video_file_path)\n",
        "output_file_path_raw = output_file_path.group(0)\n",
        "delsplit = re.search(\"\\/(?:.(?!\\/))+$\", video_file_path)\n",
        "filename = re.sub(\"^[\\/]\", \"\", delsplit.group(0))\n",
        "filename_raw = re.sub(\".{4}$\", \"\", filename)\n",
        "file_extension = re.search(\".{3}$\", filename)\n",
        "file_extension_raw = file_extension.group(0)\n",
        "\n",
        "os.environ['inputFile'] = video_file_path\n",
        "os.environ['outputPath'] = output_file_path_raw\n",
        "os.environ['fileName'] = filename_raw\n",
        "os.environ['fileExtension'] = file_extension_raw\n",
        "\n",
        "!ffmpeg -hide_banner -i \"$inputFile\" -c copy -strict -2 \"$outputPath\"/\"$fileName\".mp4"
      ],
      "execution_count": null,
      "outputs": []
    },
    {
      "cell_type": "markdown",
      "metadata": {
        "id": "NObEcBWAJoaz"
      },
      "source": [
        "### <font size=\"4\">» </font><font size=\"5\">Convert *Video File* ➔ *.mkv* (*Lossless*)"
      ]
    },
    {
      "cell_type": "code",
      "metadata": {
        "id": "zsx4JFLRJoa0",
        "cellView": "form"
      },
      "source": [
        "import os, sys, re\n",
        "\n",
        "video_file_path = \"\" #@param {type:\"string\"}\n",
        "\n",
        "output_file_path = re.search(\"^[\\/].+\\/\", video_file_path)\n",
        "output_file_path_raw = output_file_path.group(0)\n",
        "delsplit = re.search(\"\\/(?:.(?!\\/))+$\", video_file_path)\n",
        "filename = re.sub(\"^[\\/]\", \"\", delsplit.group(0))\n",
        "filename_raw = re.sub(\".{4}$\", \"\", filename)\n",
        "file_extension = re.search(\".{3}$\", filename)\n",
        "file_extension_raw = file_extension.group(0)\n",
        "\n",
        "os.environ['inputFile'] = video_file_path\n",
        "os.environ['outputPath'] = output_file_path_raw\n",
        "os.environ['fileName'] = filename_raw\n",
        "os.environ['fileExtension'] = file_extension_raw\n",
        "\n",
        "!ffmpeg -hide_banner -i \"$inputFile\" -c copy -strict -2 \"$outputPath\"/\"$fileName\".mkv"
      ],
      "execution_count": null,
      "outputs": []
    },
    {
      "cell_type": "markdown",
      "metadata": {
        "id": "DnrhKfW53wRb"
      },
      "source": [
        "### <font size=\"4\">» </font><font size=\"5\">Merge *Video File* + *Subs File* ➔ *.mkv* (*Lossless*)"
      ]
    },
    {
      "cell_type": "code",
      "metadata": {
        "id": "b1MjbVYZ3wRb",
        "cellView": "form"
      },
      "source": [
        "import os, sys, re\n",
        "\n",
        "video_file_path = \"\" #@param {type:\"string\"}\n",
        "subs_file_path = \"\" #@param {type:\"string\"}\n",
        "\n",
        "output_file_path = re.search(\"^[\\/].+\\/\", video_file_path)\n",
        "output_file_path_raw = output_file_path.group(0)\n",
        "delsplit = re.search(\"\\/(?:.(?!\\/))+$\", video_file_path)\n",
        "filename = re.sub(\"^[\\/]\", \"\", delsplit.group(0))\n",
        "filename_raw = re.sub(\".{4}$\", \"\", filename)\n",
        "file_extension = re.search(\".{3}$\", filename)\n",
        "file_extension_raw = file_extension.group(0)\n",
        "\n",
        "os.environ['inputFile'] = video_file_path\n",
        "os.environ['inputSubsFile'] = subs_file_path\n",
        "os.environ['outputPath'] = output_file_path_raw\n",
        "os.environ['fileName'] = filename_raw\n",
        "os.environ['fileExtension'] = file_extension_raw\n",
        "\n",
        "!ffmpeg -hide_banner -i \"$inputFile\" -i \"$inputSubsFile\" -c:v copy -c:a copy \"$outputPath\"/\"$fileName\"-out.mkv"
      ],
      "execution_count": null,
      "outputs": []
    },
    {
      "cell_type": "markdown",
      "metadata": {
        "id": "FpJXJiRl6-gK"
      },
      "source": [
        "### <font size=\"4\">» </font><font size=\"5\">Trim Video File (*Lossless*)"
      ]
    },
    {
      "cell_type": "code",
      "metadata": {
        "id": "iFBUeQhn7QTc",
        "cellView": "form"
      },
      "source": [
        "import os, sys, re\n",
        "\n",
        "video_file_path = \"\" #@param {type:\"string\"}\n",
        "start_time = \"00:00:00.000\" #@param {type:\"string\"}\n",
        "end_time = \"00:01:00.000\" #@param {type:\"string\"}\n",
        "\n",
        "output_file_path = re.search(\"^[\\/].+\\/\", video_file_path)\n",
        "output_file_path_raw = output_file_path.group(0)\n",
        "delsplit = re.search(\"\\/(?:.(?!\\/))+$\", video_file_path)\n",
        "filename = re.sub(\"^[\\/]\", \"\", delsplit.group(0))\n",
        "filename_raw = re.sub(\".{4}$\", \"\", filename)\n",
        "file_extension = re.search(\".{3}$\", filename)\n",
        "file_extension_raw = file_extension.group(0)\n",
        "\n",
        "os.environ['inputFile'] = video_file_path\n",
        "os.environ['outputPath'] = output_file_path_raw\n",
        "os.environ['startTime'] = start_time\n",
        "os.environ['endTime'] = end_time\n",
        "os.environ['fileName'] = filename_raw\n",
        "os.environ['fileExtension'] = file_extension_raw\n",
        "\n",
        "!ffmpeg -hide_banner -i \"$inputFile\" -ss \"$startTime\" -to \"$endTime\" -c copy \"$outputPath\"/\"$fileName\"-TRIM.\"$fileExtension\""
      ],
      "execution_count": null,
      "outputs": []
    },
    {
      "cell_type": "markdown",
      "metadata": {
        "id": "SNDGdMRn3PA-"
      },
      "source": [
        "### <font size=\"4\">» </font><font size=\"5\">Crop Video"
      ]
    },
    {
      "cell_type": "markdown",
      "metadata": {
        "id": "KFcIThDuBii_"
      },
      "source": [
        "<h3> Crop Variables Explanation:\n",
        "\n",
        "* `out_width` = The width of your cropped video file.\n",
        "* `out_height` = The height of your cropped video file.\n",
        "* `starting_position_x` & `starting_position_y` = These values define the x & y coordinates of the top left corner of your original video to start cropping from.\n",
        "\n",
        "###### *Example: For cropping the black bars from a video that looked like* [this](https://yuju.pw/y/312r.png):\n",
        "* *For your starting coordinates* (`x` , `y`) *you would use* (`0` , `138`).\n",
        "* *For* `out_width` *you would use* `1920`. *And for* `out_height` *you would use `804`.*\n",
        "\n",
        "\n",
        "\n"
      ]
    },
    {
      "cell_type": "code",
      "metadata": {
        "cellView": "form",
        "id": "CEHi5EMm9lXG"
      },
      "source": [
        "import os, sys, re\n",
        "\n",
        "video_file_path = \"\" #@param {type:\"string\"}\n",
        "out_width = \"1920\" #@param {type:\"string\"}\n",
        "out_height = \"804\" #@param {type:\"string\"}\n",
        "starting_position_x = \"0\" #@param {type:\"string\"}\n",
        "starting_position_y = \"138\" #@param {type:\"string\"}\n",
        "\n",
        "output_file_path = re.search(\"^[\\/].+\\/\", video_file_path)\n",
        "output_file_path_raw = output_file_path.group(0)\n",
        "delsplit = re.search(\"\\/(?:.(?!\\/))+$\", video_file_path)\n",
        "filename = re.sub(\"^[\\/]\", \"\", delsplit.group(0))\n",
        "filename_raw = re.sub(\".{4}$\", \"\", filename)\n",
        "file_extension = re.search(\".{3}$\", filename)\n",
        "file_extension_raw = file_extension.group(0)\n",
        "\n",
        "os.environ['inputFile'] = video_file_path\n",
        "os.environ['outputPath'] = output_file_path_raw\n",
        "os.environ['outWidth'] = out_width\n",
        "os.environ['outHeight'] = out_height\n",
        "os.environ['positionX'] = starting_position_x\n",
        "os.environ['positionY'] = starting_position_y\n",
        "os.environ['fileName'] = filename_raw\n",
        "os.environ['fileExtension'] = file_extension_raw\n",
        "\n",
        "!ffmpeg -hide_banner -i \"$inputFile\" -filter:v \"crop=$outWidth:$outHeight:$positionX:$positionY\" \"$outputPath\"/\"$fileName\"-CROP.\"$fileExtension\""
      ],
      "execution_count": null,
      "outputs": []
    },
    {
      "cell_type": "markdown",
      "metadata": {
        "id": "2f-THZmDoOaY"
      },
      "source": [
        "### <font size=\"4\">» </font><font size=\"5\">Extract Audio from Video File (*Lossless*)"
      ]
    },
    {
      "cell_type": "code",
      "metadata": {
        "id": "nSeO98YQoTJe",
        "cellView": "form"
      },
      "source": [
        "import os, sys, re\n",
        "\n",
        "video_file_path = \"\" #@param {type:\"string\"}\n",
        "output_file_extension = 'm4a' #@param [\"m4a\", \"mp3\", \"opus\", \"flac\", \"wav\"]\n",
        "\n",
        "delsplit = re.search(\"\\/(?:.(?!\\/))+$\", video_file_path)\n",
        "output_file_path = re.search(\"^[\\/].+\\/\", video_file_path)\n",
        "filename = re.sub(\"^[\\/]\", \"\", delsplit.group(0))\n",
        "filename_raw = re.sub(\".{4}$\", \"\", filename)\n",
        "\n",
        "os.environ['inputFile'] = video_file_path\n",
        "os.environ['outputPath'] = output_file_path.group(0)\n",
        "os.environ['fileName'] = filename_raw\n",
        "os.environ['fileType'] = output_file_extension\n",
        "\n",
        "!ffmpeg -hide_banner -i \"$inputFile\" -vn -c:a copy \"$outputPath\"/\"$fileName\"-audio.\"$fileType\""
      ],
      "execution_count": null,
      "outputs": []
    },
    {
      "cell_type": "markdown",
      "metadata": {
        "id": "MSUasbRUDP3B"
      },
      "source": [
        "### <font size=\"4\">» </font><font size=\"5\">Re-encode a Video to a Different Resolution"
      ]
    },
    {
      "cell_type": "code",
      "metadata": {
        "id": "nd2LvSRZCxRe",
        "cellView": "form"
      },
      "source": [
        "import os, sys, re\n",
        "\n",
        "video_file_path = '' #@param {type:\"string\"}\n",
        "resolution = '1080p' #@param [\"2160p\", \"1440p\", \"1080p\", \"720p\", \"480p\", \"360p\", \"240p\"]\n",
        "file_type = 'mp4' #@param [\"mkv\", \"mp4\"]\n",
        "\n",
        "delsplit = re.search(\"\\/(?:.(?!\\/))+$\", video_file_path)\n",
        "testsplit = video_file_path.split(\"/\")\n",
        "filename = re.sub(\"^[\\/]\", \"\", delsplit.group(0))\n",
        "filename_raw = re.sub(\".{4}$\", \"\", filename)\n",
        "resolution_raw = re.search(\"[^p]{3,4}\", resolution)\n",
        "output_file_path = re.search(\"^[\\/].+\\/\", video_file_path)\n",
        "\n",
        "os.environ['inputFile'] = video_file_path\n",
        "os.environ['outputPath'] = output_file_path.group(0)\n",
        "os.environ['fileName'] = filename_raw\n",
        "os.environ['fileType'] = file_type\n",
        "os.environ['resolutionHeight'] = resolution_raw.group(0)\n",
        "\n",
        "!ffmpeg -hide_banner -i \"$inputFile\" -vf \"scale=-1:\"$resolutionHeight\"\" -c:a copy -strict experimental \"$outputPath\"/\"$fileName\"-\"$resolutionHeight\"p.\"$fileType\""
      ],
      "execution_count": null,
      "outputs": []
    },
    {
      "cell_type": "markdown",
      "metadata": {
        "id": "9UagRtLPyKoQ"
      },
      "source": [
        "### <font size=\"4\">» </font><font size=\"5\">Extract Individual Frames from Video"
      ]
    },
    {
      "cell_type": "code",
      "metadata": {
        "id": "jTnByMhAyKoF",
        "cellView": "form"
      },
      "source": [
        "#@markdown This will create a folder in the same directory titled \"`Extracted Frames`\"\n",
        "import os, sys, re\n",
        "\n",
        "video_file_path = \"/content/drive/Shareddrives/UNLIMITED220 (2)/videoplayback.webm\" #@param {type:\"string\"}\n",
        "start_time = \"00:01:42.000\" #@param {type:\"string\"}\n",
        "end_time = \"00:01:47.000\" #@param {type:\"string\"}\n",
        "frame_rate = \"10\" #@param {type:\"string\"}\n",
        "\n",
        "output_file_path = re.search(\"^[\\/].+\\/\", video_file_path)\n",
        "output_file_path_raw = output_file_path.group(0)\n",
        "delsplit = re.search(\"\\/(?:.(?!\\/))+$\", video_file_path)\n",
        "filename = re.sub(\"^[\\/]\", \"\", delsplit.group(0))\n",
        "filename_raw = re.sub(\".{4}$\", \"\", filename)\n",
        "file_extension = re.search(\".{3}$\", filename)\n",
        "file_extension_raw = file_extension.group(0)\n",
        "\n",
        "os.environ['inputFile'] = video_file_path\n",
        "os.environ['outputPath'] = output_file_path_raw\n",
        "os.environ['startTime'] = start_time\n",
        "os.environ['endTime'] = end_time\n",
        "os.environ['frameRate'] = frame_rate\n",
        "os.environ['fileName'] = filename_raw\n",
        "os.environ['fileExtension'] = file_extension_raw\n",
        "\n",
        "!mkdir \"$outputPath\"/\"Extracted Frames4\"\n",
        "!ffmpeg -hide_banner -i \"$inputFile\" -ss \"$startTime\" -to \"$endTime\" -r \"$frameRate\"/1 \"$outputPath\"/\"Extracted Frames4\"/frame%04d.png"
      ],
      "execution_count": null,
      "outputs": []
    },
    {
      "cell_type": "markdown",
      "metadata": {
        "id": "GahMjYf8miNs"
      },
      "source": [
        "### <font size=\"4\">» </font><font size=\"5\">Generate Thumbnails - Preview from Video (3x2)"
      ]
    },
    {
      "cell_type": "code",
      "metadata": {
        "cellView": "form",
        "id": "J2u-Rha8miNy"
      },
      "source": [
        "#@markdown Example of output image: https://yuju.pw/y/39i2.png <br>\n",
        "import os, sys, re\n",
        "\n",
        "video_file_path = \"\" #@param {type:\"string\"}\n",
        "output_file_type = 'png' #@param [\"png\", \"jpg\"]\n",
        "\n",
        "output_file_path = re.search(\"^[\\/].+\\/\", video_file_path)\n",
        "output_file_path_raw = output_file_path.group(0)\n",
        "delsplit = re.search(\"\\/(?:.(?!\\/))+$\", video_file_path)\n",
        "filename = re.sub(\"^[\\/]\", \"\", delsplit.group(0))\n",
        "filename_raw = re.sub(\".{4}$\", \"\", filename)\n",
        "file_extension = re.search(\".{3}$\", filename)\n",
        "file_extension_raw = file_extension.group(0)\n",
        "\n",
        "os.environ['inputFile'] = video_file_path\n",
        "os.environ['outputPath'] = output_file_path_raw\n",
        "os.environ['outputExtension'] = output_file_type\n",
        "os.environ['fileName'] = filename_raw\n",
        "os.environ['fileExtension'] = file_extension_raw\n",
        "\n",
        "!ffmpeg -hide_banner -i \"$inputFile\" -vframes 1 -q:v 2 -vf \"select=not(mod(n\\,200)),scale=-1:480,tile=3x2\" -an \"$outputPath\"/\"$fileName\"_thumbnails.\"$outputExtension\""
      ],
      "execution_count": null,
      "outputs": []
    },
    {
      "cell_type": "markdown",
      "metadata": {
        "id": "7-3O4en4C4IL"
      },
      "source": [
        "### <font size=\"4\">» </font><font size=\"5\">Convert Audio Filetype (*mp3, m4a, ogg, flac, etc.*)"
      ]
    },
    {
      "cell_type": "code",
      "metadata": {
        "id": "aURlOf9BC1P3",
        "cellView": "form"
      },
      "source": [
        "import os, sys, re\n",
        "\n",
        "audio_file_path = \"\" #@param {type:\"string\"}\n",
        "output_file_type = \"mp3\" #@param [\"mp3\", \"ogg\", \"m4a\", \"opus\", \"flac\", \"alac\", \"wav\"]\n",
        "\n",
        "output_file_path = re.search(\"^[\\/].+\\/\", audio_file_path)\n",
        "output_file_path_raw = output_file_path.group(0)\n",
        "delsplit = re.search(\"\\/(?:.(?!\\/))+$\", audio_file_path)\n",
        "filename = re.sub(\"^[\\/]\", \"\", delsplit.group(0))\n",
        "filename_raw = re.sub(\".{4}$\", \"\", filename)\n",
        "file_extension = re.search(\".{3}$\", filename)\n",
        "file_extension_raw = file_extension.group(0)\n",
        "\n",
        "os.environ['inputFile'] = audio_file_path\n",
        "os.environ['outputPath'] = output_file_path_raw\n",
        "os.environ['fileExtension'] = output_file_type\n",
        "os.environ['fileName'] = filename_raw\n",
        "\n",
        "!ffmpeg -hide_banner -i \"$inputFile\" \"$outputPath\"/\"$fileName\"converted.\"$fileExtension\""
      ],
      "execution_count": null,
      "outputs": []
    },
    {
      "cell_type": "markdown",
      "metadata": {
        "id": "VRk2Ye1exWVA"
      },
      "source": [
        "### <font size=\"4\">» </font><font size=\"5\">Extract + Upload Frames from Video</font>"
      ]
    },
    {
      "cell_type": "code",
      "metadata": {
        "id": "BIGsgarfxWVI"
      },
      "source": [
        "import os, re, time, pathlib\n",
        "import urllib.request\n",
        "from IPython.display import clear_output\n",
        "\n",
        "Auto_UP_Gdrive = False\n",
        "AUTO_MOVE_PATH = \"/content\"\n",
        "HOME = os.path.expanduser(\"~\")\n",
        "pathDoneCMD = f'{HOME}/doneCMD.sh'\n",
        "\n",
        "if not os.path.exists(f\"{HOME}/.ipython/ttmg.py\"):\n",
        "    hCode = \"https://raw.githubusercontent.com/biplobsd/\" \\\n",
        "                \"Google-Colab-CloudTorrent/master/res/ttmg.py\"\n",
        "    urllib.request.urlretrieve(hCode, f\"{HOME}/.ipython/ttmg.py\")\n",
        "\n",
        "from ttmg import (\n",
        "    runSh,\n",
        "    findProcess,\n",
        "    loadingAn,\n",
        "    updateCheck,\n",
        "    ngrok\n",
        ")\n",
        "\n",
        "video_file_path = \"/content/drive/Shareddrives/UNLIMITED220 (2)/videoplayback.webm\" #@param {type:\"string\"}\n",
        "\n",
        "output_file_path = re.search(\"^[\\/].+\\/\", video_file_path)\n",
        "output_file_path_raw = output_file_path.group(0)\n",
        "delsplit = re.search(\"\\/(?:.(?!\\/))+$\", video_file_path)\n",
        "filename = re.sub(\"^[\\/]\", \"\", delsplit.group(0))\n",
        "filename_raw = re.sub(\".{4}$\", \"\", filename)\n",
        "file_extension = re.search(\".{3}$\", filename)\n",
        "file_extension_raw = file_extension.group(0)\n",
        "\n",
        "os.environ['inputFile'] = video_file_path\n",
        "os.environ['outputPath'] = output_file_path_raw\n",
        "os.environ['fileName'] = filename_raw\n",
        "os.environ['fileExtension'] = file_extension_raw\n",
        "\n",
        "!mkdir -p \"/content/frames\"\n",
        "\n",
        "for i in range(10):\n",
        "    clear_output()\n",
        "    loadingAn()\n",
        "    print(\"Uploading Frames...\")\n",
        "\n",
        "%cd \"/content/frames\"\n",
        "!ffmpeg -hide_banner -ss 00:56.0 -i \"$inputFile\" -vframes 1 -q:v 1 -y \"/content/frames/frame1.png\"\n",
        "!curl --silent -F \"reqtype=fileupload\" -F \"fileToUpload=@frame1.png\" https://catbox.moe/user/api.php -o frame1.txt\n",
        "f1 = open('frame1.txt', 'r')\n",
        "%cd \"/content\"\n",
        "file_content1 = f1.read()\n",
        "\n",
        "%cd \"/content/frames\"\n",
        "!ffmpeg -hide_banner -ss 02:20.0 -i \"$inputFile\" -vframes 1 -q:v 1 -y \"/content/frames/frame2.png\"\n",
        "!curl --silent -F \"reqtype=fileupload\" -F \"fileToUpload=@frame2.png\" https://catbox.moe/user/api.php -o frame2.txt\n",
        "%cd \"/content/frames\"\n",
        "f2 = open('frame2.txt', 'r')\n",
        "%cd \"/content\"\n",
        "file_content2 = f2.read()\n",
        "\n",
        "clear_output()\n",
        "print (\"Screenshot URLs:\")\n",
        "print (\"1. \" + file_content1)\n",
        "print (\"2. \" + file_content2)"
      ],
      "execution_count": null,
      "outputs": []
    },
    {
      "cell_type": "markdown",
      "metadata": {
        "id": "tozwpAhhnm69"
      },
      "source": [
        "### <font size=\"4\">» </font><font size=\"5\">MediaInfo</font>"
      ]
    },
    {
      "cell_type": "code",
      "metadata": {
        "id": "NTULRguzu0b0",
        "cellView": "form"
      },
      "source": [
        "path = \"\" #@param {type:\"string\"}\n",
        "save_txt = False #@param {type:\"boolean\"}\n",
        "import os, uuid, re, IPython\n",
        "import ipywidgets as widgets\n",
        "import time\n",
        "\n",
        "from glob import glob\n",
        "from IPython.display import HTML, clear_output\n",
        "from google.colab import output, drive\n",
        "\n",
        "def mediainfo():\n",
        "  display(HTML(\"<br>\"))\n",
        "#   print(path.split(\"/\")[::-1][0])\n",
        "  display(HTML(\"<br>\"))\n",
        "#   media = !mediainfo \"$path\"\n",
        "#   media = \"\\n\".join(media).replace(os.path.dirname(path)+\"/\", \"\")\n",
        "  get_ipython().system_raw(\"\"\"mediainfo --LogFile=\"/root/.nfo\" \"$path\" \"\"\")\n",
        "  with open('/root/.nfo', 'r') as file:\n",
        "    media = file.read()\n",
        "    media = media.replace(os.path.dirname(path)+\"/\", \"\")\n",
        "  print(media)\n",
        "  get_ipython().system_raw(\"rm -f '/root/.nfo'\")\n",
        "\n",
        "  if save_txt:\n",
        "    txt = path.rpartition('.')[0] + \".txt\"\n",
        "    if os.path.exists(txt):\n",
        "      get_ipython().system_raw(\"rm -f '$txt'\")\n",
        "    !curl -s https://pastebin.com/raw/TApKLQfM -o \"$txt\"\n",
        "    with open(txt, 'a+') as file:\n",
        "      file.write(\"\\n\\n\")\n",
        "      file.write(media)\n",
        "\n",
        "while not os.path.exists(\"/content/drive\"):\n",
        "  try:\n",
        "    drive.mount(\"/content/drive\")\n",
        "    clear_output(wait=True)\n",
        "  except:\n",
        "    clear_output()\n",
        "\n",
        "if not os.path.exists(\"/usr/bin/mediainfo\"):\n",
        "  get_ipython().system_raw(\"apt-get install mediainfo\")\n",
        "\n",
        "mediainfo()"
      ],
      "execution_count": null,
      "outputs": []
    },
    {
      "cell_type": "markdown",
      "metadata": {
        "id": "h9hT93eZGwq2"
      },
      "source": [
        "# Copy, Move, Delete"
      ]
    },
    {
      "cell_type": "code",
      "metadata": {
        "id": "3CHY-GolHreR",
        "cellView": "form"
      },
      "source": [
        "Mode = \"Delete\" #@param [\"Copy\", \"Move\", \"Delete\"]\n",
        "Source = \"/content/drive/MyDrive/Games\" #@param {type:\"string\"}\n",
        "Destination = \"/content\" #@param {type:\"string\"}\n",
        "if Mode == \"Copy\":\n",
        "  !cp -av \"$Source\" \"$Destination\"\n",
        "elif Mode == \"Move\":\n",
        "  !mv \"$Source\" \"$Destination\"\n",
        "elif Mode == \"Delete\":\n",
        "  !rm -rf \"$Source\""
      ],
      "execution_count": null,
      "outputs": []
    }
  ]
}